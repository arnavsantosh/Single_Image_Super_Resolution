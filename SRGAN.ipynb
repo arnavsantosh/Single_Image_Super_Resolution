{
  "cells": [
    {
      "cell_type": "code",
      "execution_count": null,
      "metadata": {
        "id": "7cSqWinavdVN"
      },
      "outputs": [],
      "source": [
        "import os\n",
        "import numpy as np\n",
        "from PIL import Image\n",
        "import matplotlib.pyplot as plt\n",
        "\n",
        "import torch.nn as nn\n",
        "from torchvision.models import vgg19, VGG19_Weights\n",
        "import torch\n",
        "from torch import optim\n",
        "import torchvision.transforms as transforms\n",
        "from torch.utils.data import Dataset, DataLoader\n",
        "\n",
        "import tqdm\n",
        "import random"
      ]
    },
    {
      "cell_type": "code",
      "execution_count": null,
      "metadata": {
        "colab": {
          "base_uri": "https://localhost:8080/",
          "height": 35
        },
        "id": "V-JCgj701Zlu",
        "outputId": "dc8a6085-b505-4fbc-d5d0-3d2a9ddb385b"
      },
      "outputs": [
        {
          "data": {
            "application/vnd.google.colaboratory.intrinsic+json": {
              "type": "string"
            },
            "text/plain": [
              "'cuda'"
            ]
          },
          "execution_count": 2,
          "metadata": {},
          "output_type": "execute_result"
        }
      ],
      "source": [
        "device = 'cuda' if torch.cuda.is_available else 'cpu'\n",
        "device"
      ]
    },
    {
      "cell_type": "code",
      "execution_count": null,
      "metadata": {
        "id": "2k66MCwz5sGW"
      },
      "outputs": [],
      "source": [
        "def augment_images(start, end, orig_size, transform_type):\n",
        "    for i in range(start, end):\n",
        "        for res_quality in ['low_res', 'high_res']:\n",
        "            im = Image.open(f'./SRGANData/train/{res_quality}/{i}.png')\n",
        "            im_t = im.transpose(transform_type)\n",
        "            im_t.save(f\"./SRGANData/train/{res_quality}/{orig_size+i}.png\")\n",
        "\n",
        "augment_images(0, 171, 685, Image.Transpose.ROTATE_180)\n",
        "augment_images(171, 342, 685, Image.Transpose.FLIP_TOP_BOTTOM)\n",
        "augment_images(342, 514, 685, Image.Transpose.FLIP_LEFT_RIGHT)\n",
        "augment_images(514, 685, 685, Image.Transpose.TRANSVERSE)"
      ]
    },
    {
      "cell_type": "code",
      "execution_count": null,
      "metadata": {
        "id": "LXYOwEWVwbK8"
      },
      "outputs": [],
      "source": [
        "low_res_size = 128\n",
        "high_res_size = 256\n",
        "\n",
        "transform_low = transforms.Compose([\n",
        "    transforms.ToPILImage(),\n",
        "    transforms.Resize((low_res_size, low_res_size)),\n",
        "    transforms.ToTensor(),\n",
        "])\n",
        "\n",
        "transform_high = transforms.Compose([\n",
        "    transforms.ToPILImage(),\n",
        "    transforms.Resize((high_res_size, high_res_size)),\n",
        "    transforms.ToTensor(),\n",
        "])"
      ]
    },
    {
      "cell_type": "code",
      "execution_count": null,
      "metadata": {
        "id": "BMfLvJJKyDTo"
      },
      "outputs": [],
      "source": [
        "class ImageDataset(Dataset):\n",
        "    def __init__(self, root_dir):\n",
        "        super(ImageDataset, self).__init__()\n",
        "        self.root_dir = root_dir\n",
        "        files_low = os.listdir(os.path.join(root_dir, \"low_res\"))\n",
        "        files_high = os.listdir(os.path.join(root_dir, \"high_res\"))\n",
        "        self.data = list(zip(files_low, files_high))\n",
        "\n",
        "    def __len__(self):\n",
        "        return len(self.data)\n",
        "\n",
        "    def __getitem__(self, index):\n",
        "        #Stores file name of the png\n",
        "        img_low_file, img_high_file = self.data[index]\n",
        "\n",
        "        #Gets their paths w.r.t current working directory\n",
        "        low_res_pth = os.path.join(self.root_dir, \"low_res\", img_low_file)\n",
        "        high_res_pth = os.path.join(self.root_dir, \"high_res\", img_high_file)\n",
        "\n",
        "        #Numpy arrays of size (H,W,C=4)\n",
        "        low_res = np.array(Image.open(low_res_pth))\n",
        "        high_res = np.array(Image.open(high_res_pth))\n",
        "\n",
        "        #Color channels (C) = 3\n",
        "        low_res = low_res[:, :, :3]\n",
        "        high_res = high_res[:, :, :3]\n",
        "\n",
        "        #Tensors of shape (C=3, H, W)\n",
        "        low_res = transform_low(low_res)\n",
        "        high_res = transform_high(high_res)\n",
        "\n",
        "        return low_res, high_res"
      ]
    },
    {
      "cell_type": "code",
      "execution_count": null,
      "metadata": {
        "id": "hOanBc1IxWIw"
      },
      "outputs": [],
      "source": [
        "#Hyperparameters\n",
        "lr = 3e-4\n",
        "epochs = 7\n",
        "batch_size = 5"
      ]
    },
    {
      "cell_type": "code",
      "execution_count": null,
      "metadata": {
        "id": "e_aUID5y2VNG"
      },
      "outputs": [],
      "source": [
        "#This is used as nothing more than a function. It is not trained.\n",
        "#Note that the original paper mentions only using the first 19 layers of vgg19\n",
        "\n",
        "class vggL(nn.Module):\n",
        "    def __init__(self):\n",
        "        super().__init__()\n",
        "        self.vgg = vgg19(weights=VGG19_Weights.DEFAULT).features[:25].eval().to(device)\n",
        "        self.MSE = nn.MSELoss()\n",
        "\n",
        "    def forward(self, first, second):\n",
        "        vgg_first = self.vgg(first)\n",
        "        vgg_second = self.vgg(second)\n",
        "        perceptual_loss = self.MSE(vgg_first, vgg_second)\n",
        "        return perceptual_loss"
      ]
    },
    {
      "cell_type": "code",
      "execution_count": null,
      "metadata": {
        "id": "JTzdUq5QxY2A"
      },
      "outputs": [],
      "source": [
        "class ConvBlock(nn.Module):\n",
        "    def __init__(\n",
        "            self,\n",
        "            in_channels,\n",
        "            out_channels,\n",
        "            use_activation=True,\n",
        "            use_BatchNorm=True,\n",
        "            **kwargs\n",
        "    ):\n",
        "\n",
        "        super(ConvBlock, self).__init__()\n",
        "        self.use_activation = use_activation\n",
        "        self.cnn = nn.Conv2d(in_channels, out_channels, **kwargs)\n",
        "        self.bn = nn.BatchNorm2d(out_channels) if use_BatchNorm else nn.Identity()\n",
        "        self.ac = nn.LeakyReLU(0.2) \n",
        "                                    \n",
        "    def forward(self, x):\n",
        "        x1 = self.cnn(x)\n",
        "        x2 = self.bn(x1)\n",
        "        x3 = self.ac(x2)\n",
        "        return x3 if self.use_activation else x2\n",
        "\n",
        "\n",
        "class UpsampleBlock(nn.Module):\n",
        "    def __init__(self, in_channels, scale_factor):\n",
        "        super(UpsampleBlock, self).__init__()\n",
        "        self.conv = nn.Conv2d(in_channels, in_channels * scale_factor ** 2, kernel_size=2, stride=1, padding=1) \n",
        "        self.ps = nn.PixelShuffle(scale_factor)\n",
        "        self.ac = nn.PReLU(num_parameters=in_channels)\n",
        "\n",
        "    def forward(self, x):\n",
        "        return self.ac(self.ps(self.conv(x)))\n",
        "\n",
        "\n",
        "class ResidualBlock(nn.Module):\n",
        "    def __init__(self, in_channels):\n",
        "        super(ResidualBlock, self).__init__()\n",
        "        self.b1 = ConvBlock(\n",
        "            in_channels,\n",
        "            in_channels,\n",
        "            kernel_size=3,\n",
        "            stride=1,\n",
        "            padding=1\n",
        "        )\n",
        "\n",
        "        self.b2 = ConvBlock(\n",
        "            in_channels,\n",
        "            in_channels,\n",
        "            kernel_size=3,\n",
        "            stride=1,\n",
        "            padding=1,\n",
        "            use_activation=False\n",
        "        )\n",
        "\n",
        "    def forward(self, x):\n",
        "        out = self.b1(x)\n",
        "        out = self.b2(out)\n",
        "        return out + x "
      ]
    },
    {
      "cell_type": "code",
      "execution_count": null,
      "metadata": {
        "id": "uiNL54c8xbtR"
      },
      "outputs": [],
      "source": [
        "class Generator(nn.Module):\n",
        "    def __init__(self, in_channels=3, num_channels=64, num_blocks=8):\n",
        "        super(Generator, self).__init__()\n",
        "        self.initial = ConvBlock(in_channels, num_channels, kernel_size=7, stride=1, padding=4, use_BatchNorm=False) #K=9 in the paper\n",
        "        self.res = nn.Sequential(*[ResidualBlock(num_channels) for i in range(num_blocks)])\n",
        "        self.conv = ConvBlock(num_channels, num_channels, kernel_size=3, stride=1, padding=1, use_activation=False)\n",
        "        self.up = UpsampleBlock(num_channels, scale_factor=2) \n",
        "        self.final = nn.Conv2d(num_channels, in_channels, kernel_size=9, stride=1, padding=1)\n",
        "\n",
        "    def forward(self, x):\n",
        "        x = self.initial(x)\n",
        "        c = self.res(x)\n",
        "        c = self.conv(c) + x \n",
        "        c = self.up(c)\n",
        "        return torch.sigmoid(self.final(c)) #Sigmoid activation not mentioned in the paper\n",
        "\n",
        "\n",
        "class Discriminator(nn.Module):\n",
        "    def __init__(self, in_channels=3, features=[64, 64, 128, 128, 256, 256, 512, 512]):\n",
        "        super(Discriminator, self).__init__()\n",
        "        blocks = []\n",
        "        for idx, feature in enumerate(features):\n",
        "            blocks.append(\n",
        "                ConvBlock(\n",
        "                    in_channels,\n",
        "                    feature, #Numbers as given in the paper. See the diagram labels\n",
        "                    kernel_size=3,\n",
        "                    stride = idx % 2 + 1, #Even idx gives s=1, Odd idx gives 2. This is as per the architecture proposed in the paper\n",
        "                    padding=1,\n",
        "                    use_activation=True,\n",
        "                    use_BatchNorm=idx != 0 #Only the first block in this has no Batch Normalization\n",
        "                )\n",
        "            )\n",
        "            in_channels = feature  \n",
        "\n",
        "        self.blocks = nn.Sequential(*blocks)\n",
        "\n",
        "        self.mlp = nn.Sequential(\n",
        "            nn.AdaptiveAvgPool2d((8, 8)), #Not there in the paper. Converts input (N,512,H,W) tensor into a (512,C,8,8) tensor\n",
        "            nn.Flatten(),\n",
        "            nn.Linear(512*8*8, 1024),\n",
        "            nn.LeakyReLU(0.2, inplace=True),\n",
        "            nn.Linear(1024, 1)\n",
        "        )\n",
        "\n",
        "    def forward(self, x):\n",
        "        x = self.blocks(x)\n",
        "        x = self.mlp(x)\n",
        "        return x"
      ]
    },
    {
      "cell_type": "code",
      "execution_count": null,
      "metadata": {
        "colab": {
          "base_uri": "https://localhost:8080/"
        },
        "id": "q12WS2SZxcuI",
        "outputId": "5f76728c-3d9f-4292-bf30-eaa1213da29d"
      },
      "outputs": [
        {
          "name": "stderr",
          "output_type": "stream",
          "text": [
            "Downloading: \"https://download.pytorch.org/models/vgg19-dcbb9e9d.pth\" to /root/.cache/torch/hub/checkpoints/vgg19-dcbb9e9d.pth\n",
            "100%|██████████| 548M/548M [00:04<00:00, 133MB/s]\n"
          ]
        }
      ],
      "source": [
        "gen = Generator(in_channels=3).to(device)\n",
        "disc = Discriminator(in_channels=3).to(device)\n",
        "opt_gen = optim.Adam(gen.parameters(), lr=lr, betas=(0.9, 0.999))\n",
        "opt_disc = optim.Adam(disc.parameters(), lr=lr, betas=(0.9, 0.999))\n",
        "\n",
        "bce = nn.BCEWithLogitsLoss()\n",
        "vgg_loss = vggL()\n",
        "\n",
        "train = ImageDataset(root_dir=\"./SRGANData/train/\")\n",
        "train_loader = DataLoader(train, batch_size=batch_size, num_workers = 2, shuffle=True)\n",
        "\n",
        "val = ImageDataset(root_dir=\"./SRGANData/val/\")\n",
        "val_loader = DataLoader(val, batch_size=batch_size, num_workers = 2, shuffle=True)"
      ]
    },
    {
      "cell_type": "code",
      "execution_count": null,
      "metadata": {
        "id": "zMruOMzRxfvi"
      },
      "outputs": [],
      "source": [
        "disc_loss_history = []\n",
        "gen_loss_history = []\n",
        "def train_fn(loader, disc, gen, opt_gen, opt_disc, bce, vgg_loss):\n",
        "    #loop = tqdm(loader)\n",
        "    disc_loss = 0\n",
        "    gen_loss = 0\n",
        "\n",
        "    for idx, (low_res, high_res) in enumerate(loader):\n",
        "        high_res = high_res.to(device)\n",
        "        low_res = low_res.to(device)\n",
        "\n",
        "        fake = gen(low_res)\n",
        "\n",
        "        disc_real = disc(high_res)\n",
        "        disc_fake = disc(fake.detach())\n",
        "\n",
        "        disc_loss_real = bce(disc_real, torch.ones_like(disc_real)) \n",
        "        disc_loss_fake = bce(disc_fake, torch.zeros_like(disc_fake)) \n",
        "\n",
        "        disc_loss = disc_loss_fake + disc_loss_real\n",
        "\n",
        "        opt_disc.zero_grad()\n",
        "        disc_loss.backward()\n",
        "        opt_disc.step()\n",
        "\n",
        "        disc_fake = disc(fake)\n",
        "        adversarial_loss = 1e-3 * bce(disc_fake, torch.ones_like(disc_fake)) \n",
        "        loss_for_vgg = 0.006*vgg_loss(fake, high_res) #0.006 factor not mentioned in paper\n",
        "        gen_loss = loss_for_vgg + adversarial_loss\n",
        "\n",
        "        opt_gen.zero_grad()\n",
        "        gen_loss.backward()\n",
        "        opt_gen.step()\n",
        "\n",
        "        if (idx+1)%20 == 0:\n",
        "          with torch.no_grad():\n",
        "            disc_loss_history.append(disc_loss)\n",
        "            gen_loss_history.append(gen_loss)\n",
        "\n",
        "    return gen_loss.detach().cpu(), disc_loss.detach().cpu()"
      ]
    },
    {
      "cell_type": "code",
      "execution_count": null,
      "metadata": {
        "id": "8ecQL0oGxs7r"
      },
      "outputs": [],
      "source": [
        "def plot_examples(gen):\n",
        "    dataset_test = ImageDataset(root_dir=\"./SRGANData/val/\")\n",
        "    loader = DataLoader(dataset_test, batch_size=16, num_workers=2)\n",
        "    gen.eval()\n",
        "\n",
        "    # Create a figure with two subplots\n",
        "    fig, axs = plt.subplots(1, 3, figsize=(8, 4))\n",
        "    chosen_batch = random.randint(0, len(loader)-1)\n",
        "    for idx, (low_res, high_res) in enumerate(loader):\n",
        "        if(chosen_batch == idx):\n",
        "            chosen = random.randint(0, len(low_res)-1)\n",
        "\n",
        "            axs[0].set_axis_off()\n",
        "            axs[0].imshow(low_res[chosen].permute(1, 2, 0))\n",
        "            axs[0].set_title(\"low res\")\n",
        "\n",
        "            with torch.no_grad():\n",
        "                upscaled_img = gen(low_res[chosen].to(device).unsqueeze(0))\n",
        "\n",
        "            axs[1].set_axis_off()\n",
        "            axs[1].imshow(upscaled_img.permute(0, 2, 3, 1)[0].cpu())\n",
        "            axs[1].set_title(\"predicted\")\n",
        "\n",
        "            axs[2].set_axis_off()\n",
        "            axs[2].imshow(high_res[chosen].permute(1, 2, 0))\n",
        "            axs[2].set_title(\"high res\")\n",
        "\n",
        "            if(idx == 1):\n",
        "                break\n",
        "\n",
        "    plt.show()\n",
        "\n",
        "    gen.train()"
      ]
    },
    {
      "cell_type": "code",
      "execution_count": null,
      "metadata": {
        "id": "GLeBgayoxunn"
      },
      "outputs": [],
      "source": [
        "for epoch in range(epochs):\n",
        "     plot_examples(gen)\n",
        "     gen_loss, disc_loss = train_fn(train_loader, disc, gen, opt_gen, opt_disc, bce, vgg_loss)\n",
        "     print(\"epoch \", epoch+1, \"/\", epochs)\n",
        "     print(f\"gen_loss: {gen_loss:.4f}, disc_loss:{disc_loss:.4f}\")"
      ]
    },
    {
      "cell_type": "code",
      "execution_count": null,
      "metadata": {
        "id": "VJW4GmpJ3s2x"
      },
      "outputs": [],
      "source": [
        "## Saving the model\n",
        "\n",
        "# srgan_G_param_file='SRGAN_G.pth'\n",
        "# srgan_D_param_file='SRGAN_D.pth'\n",
        "# torch.save(gen.state_dict(), srgan_G_param_file)\n",
        "# torch.save(disc.state_dict(), srgan_D_param_file)"
      ]
    },
    {
      "cell_type": "code",
      "execution_count": null,
      "metadata": {
        "id": "ZOrKQ98-P7pk"
      },
      "outputs": [],
      "source": [
        "def upscale(model, image_path, return_image=False):\n",
        "    transform_low2 = transforms.Compose([\n",
        "        transforms.Resize((128, 128)),\n",
        "        transforms.ToTensor(),\n",
        "    ])\n",
        "    \n",
        "    img  = transform_low2(Image.open(image_path))\n",
        "    img = img[:3,:,:]\n",
        "    img = torch.reshape(img, (1,3,128,128))\n",
        "    upscaled_img = model(img).detach()\n",
        "\n",
        "    if not return_image:\n",
        "        _, axs = plt.subplots(1, 2, figsize=(8,4))\n",
        "        img = img.permute(0,2,3,1)[0]\n",
        "\n",
        "        axs[0].set_axis_off()\n",
        "        axs[0].imshow(img)\n",
        "        axs[0].set_title(\"Original\")\n",
        "\n",
        "        axs[1].set_axis_off()\n",
        "        axs[1].imshow(upscaled_img.permute(0, 2, 3, 1)[0])\n",
        "        axs[1].set_title(\"Upscaled\")\n",
        "\n",
        "        plt.show()\n",
        "    else:\n",
        "        return upscaled_img.permute(0, 2, 3, 1)"
      ]
    }
  ],
  "metadata": {
    "accelerator": "GPU",
    "colab": {
      "gpuType": "T4",
      "provenance": []
    },
    "kernelspec": {
      "display_name": "Python 3",
      "name": "python3"
    },
    "language_info": {
      "name": "python"
    }
  },
  "nbformat": 4,
  "nbformat_minor": 0
}
